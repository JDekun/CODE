{
 "cells": [
  {
   "cell_type": "code",
   "execution_count": 1,
   "metadata": {},
   "outputs": [
    {
     "data": {
      "text/plain": [
       "environ{'MAIL': '/var/mail/zk',\n",
       "        'USER': 'zk',\n",
       "        'SSH_CLIENT': '10.59.98.106 49902 22',\n",
       "        'LC_TIME': 'zh_CN.UTF-8',\n",
       "        'SHLVL': '5',\n",
       "        'HOME': '/home/zk',\n",
       "        'LC_MONETARY': 'zh_CN.UTF-8',\n",
       "        'DBUS_SESSION_BUS_ADDRESS': 'unix:path=/run/user/1022/bus',\n",
       "        'LOGNAME': 'zk',\n",
       "        '_': '/home/zk/anaconda3/bin/python',\n",
       "        'XDG_SESSION_ID': '4857',\n",
       "        'PATH': '/home/zk/anaconda3/bin:/home/zk/.vscode-server/bin/d045a5eda657f4d7b676dedbfa7aab8207f8a075/bin/remote-cli:/home/zk/.local/bin:/home/zk/anaconda3/bin:/home/zk/anaconda3/condabin:/usr/local/cuda/bin:/usr/local/sbin:/usr/local/bin:/usr/sbin:/usr/bin:/sbin:/bin:/usr/games:/usr/local/games:/snap/bin:/usr/local/matlab/bin:/usr/local/cuda/bin:/home/zk/anaconda3/bin:/home/zk/anaconda3/condabin:/usr/local/cuda/bin:/usr/local/sbin:/usr/local/bin:/usr/sbin:/usr/bin:/sbin:/bin:/usr/games:/usr/local/games:/snap/bin:/usr/local/matlab/bin',\n",
       "        'VSCODE_AGENT_FOLDER': '/home/zk/.vscode-server',\n",
       "        'LC_ADDRESS': 'zh_CN.UTF-8',\n",
       "        'XDG_RUNTIME_DIR': '/run/user/1022',\n",
       "        'LANG': 'en_US.UTF-8',\n",
       "        'LC_TELEPHONE': 'zh_CN.UTF-8',\n",
       "        'LC_NAME': 'zh_CN.UTF-8',\n",
       "        'SHELL': '/bin/bash',\n",
       "        'LC_MEASUREMENT': 'zh_CN.UTF-8',\n",
       "        'LC_IDENTIFICATION': 'zh_CN.UTF-8',\n",
       "        'PWD': '/home/zk',\n",
       "        'SSH_CONNECTION': '10.59.98.106 49902 10.59.139.1 22',\n",
       "        'LC_NUMERIC': 'zh_CN.UTF-8',\n",
       "        'LC_PAPER': 'zh_CN.UTF-8',\n",
       "        'VSCODE_HANDLES_SIGPIPE': 'true',\n",
       "        'CONDA_SHLVL': '1',\n",
       "        'LS_COLORS': '',\n",
       "        'LD_LIBRARY_PATH': '/usr/local/cuda/lib64:/usr/loca/cuda/lib64',\n",
       "        'CONDA_EXE': '/home/zk/anaconda3/bin/conda',\n",
       "        'LESSCLOSE': '/usr/bin/lesspipe %s %s',\n",
       "        'CONDA_PREFIX': '/home/zk/anaconda3',\n",
       "        '_CE_M': '',\n",
       "        'CONDA_PYTHON_EXE': '/home/zk/anaconda3/bin/python',\n",
       "        'CUDA_HOME': '/usr/local/cuda',\n",
       "        'https_proxy': 'http://10.59.98.106:7890',\n",
       "        'XDG_DATA_DIRS': '/usr/local/share:/usr/share:/var/lib/snapd/desktop',\n",
       "        'http_proxy': 'http://10.59.98.106:7890',\n",
       "        '_CE_CONDA': '',\n",
       "        'CONDA_PROMPT_MODIFIER': '(base) ',\n",
       "        'all_proxy': 'http://10.59.98.106:7890',\n",
       "        'CONDA_DEFAULT_ENV': 'base',\n",
       "        'PKG_CONFIG_PATH': ':/usr/local/lib/pkgconfig',\n",
       "        'LESSOPEN': '| /usr/bin/lesspipe %s',\n",
       "        'VSCODE_AMD_ENTRYPOINT': 'vs/workbench/api/node/extensionHostProcess',\n",
       "        'VSCODE_HANDLES_UNCAUGHT_ERRORS': 'true',\n",
       "        'VSCODE_NLS_CONFIG': '{\"locale\":\"zh-cn\",\"availableLanguages\":{\"*\":\"zh-cn\"},\"_languagePackId\":\"d12f895d31d9f9b0d093ad4fb7402f51.zh-cn\",\"_translationsConfigFile\":\"/home/zk/.vscode-server/data/clp/d12f895d31d9f9b0d093ad4fb7402f51.zh-cn/tcf.json\",\"_cacheRoot\":\"/home/zk/.vscode-server/data/clp/d12f895d31d9f9b0d093ad4fb7402f51.zh-cn\",\"_resolvedLanguagePackCoreLocation\":\"/home/zk/.vscode-server/data/clp/d12f895d31d9f9b0d093ad4fb7402f51.zh-cn/d045a5eda657f4d7b676dedbfa7aab8207f8a075\",\"_corruptedFile\":\"/home/zk/.vscode-server/data/clp/d12f895d31d9f9b0d093ad4fb7402f51.zh-cn/corrupted.info\",\"_languagePackSupport\":true}',\n",
       "        'BROWSER': '/home/zk/.vscode-server/bin/d045a5eda657f4d7b676dedbfa7aab8207f8a075/bin/helpers/browser.sh',\n",
       "        'VSCODE_CWD': '/home/zk',\n",
       "        'ELECTRON_RUN_AS_NODE': '1',\n",
       "        'VSCODE_IPC_HOOK_CLI': '/run/user/1022/vscode-ipc-96c34585-edb3-413c-bb23-a7676f1af0cb.sock',\n",
       "        'PYTHONUNBUFFERED': '1',\n",
       "        'PYTHONIOENCODING': 'utf-8',\n",
       "        'CONDA_ROOT': '/home/zk/anaconda3',\n",
       "        'TERM': 'xterm-color',\n",
       "        'CLICOLOR': '1',\n",
       "        'PAGER': 'cat',\n",
       "        'GIT_PAGER': 'cat',\n",
       "        'MPLBACKEND': 'module://matplotlib_inline.backend_inline',\n",
       "        'PYDEVD_IPYTHON_COMPATIBLE_DEBUGGING': '1'}"
      ]
     },
     "execution_count": 1,
     "metadata": {},
     "output_type": "execute_result"
    }
   ],
   "source": [
    "from os import environ\n",
    "\n",
    "\n",
    "environ"
   ]
  },
  {
   "cell_type": "code",
   "execution_count": null,
   "metadata": {},
   "outputs": [],
   "source": []
  }
 ],
 "metadata": {
  "kernelspec": {
   "display_name": "Python 3.9.12 ('base')",
   "language": "python",
   "name": "python3"
  },
  "language_info": {
   "codemirror_mode": {
    "name": "ipython",
    "version": 3
   },
   "file_extension": ".py",
   "mimetype": "text/x-python",
   "name": "python",
   "nbconvert_exporter": "python",
   "pygments_lexer": "ipython3",
   "version": "3.9.12"
  },
  "orig_nbformat": 4,
  "vscode": {
   "interpreter": {
    "hash": "42a4ea106d429adb85b92cbf5fe6fad5ad2431a3e82cdef4435b2cc92f522609"
   }
  }
 },
 "nbformat": 4,
 "nbformat_minor": 2
}
