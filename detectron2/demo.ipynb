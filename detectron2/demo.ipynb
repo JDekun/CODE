{
 "cells": [
  {
   "cell_type": "markdown",
   "metadata": {},
   "source": [
    "[![Open In Colab](https://colab.research.google.com/assets/colab-badge.svg)](https://colab.research.google.com/github/JDekun/CODE/blob/master/demo.ipynb?authuser=2) [![Open In Github](https://badgen.net/badge/icon/Open%20demo?icon=github&label)](https://github.com/JDekun/CODE/blob/master/code.ipynb)"
   ]
  }
 ],
 "metadata": {
  "kernelspec": {
   "display_name": "Python 3.9.12 ('base')",
   "language": "python",
   "name": "python3"
  },
  "language_info": {
   "name": "python",
   "version": "3.9.12"
  },
  "orig_nbformat": 4,
  "vscode": {
   "interpreter": {
    "hash": "cc9daa352394ac6fd6b224fdae94757fb224b4aab069bc0189ad8c000c678227"
   }
  }
 },
 "nbformat": 4,
 "nbformat_minor": 2
}
